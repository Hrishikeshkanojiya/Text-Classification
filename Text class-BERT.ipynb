{
 "cells": [
  {
   "cell_type": "code",
   "execution_count": 1,
   "id": "9fb4d3da",
   "metadata": {},
   "outputs": [
    {
     "name": "stderr",
     "output_type": "stream",
     "text": [
      "2022-04-06 17:46:58.012436: W tensorflow/stream_executor/platform/default/dso_loader.cc:64] Could not load dynamic library 'libcudart.so.11.0'; dlerror: libcudart.so.11.0: cannot open shared object file: No such file or directory\n",
      "2022-04-06 17:46:58.012465: I tensorflow/stream_executor/cuda/cudart_stub.cc:29] Ignore above cudart dlerror if you do not have a GPU set up on your machine.\n"
     ]
    }
   ],
   "source": [
    "import tensorflow as tf\n",
    "import tensorflow_hub as hub\n",
    "import tensorflow_text as text\n",
    "import pandas as pd"
   ]
  },
  {
   "cell_type": "code",
   "execution_count": 2,
   "id": "23db5d5e",
   "metadata": {},
   "outputs": [
    {
     "ename": "FileNotFoundError",
     "evalue": "[Errno 2] No such file or directory: '/home/hrishikeshkanojiya/Desktop/outputs.csv'",
     "output_type": "error",
     "traceback": [
      "\u001b[0;31m---------------------------------------------------------------------------\u001b[0m",
      "\u001b[0;31mFileNotFoundError\u001b[0m                         Traceback (most recent call last)",
      "Input \u001b[0;32mIn [2]\u001b[0m, in \u001b[0;36m<cell line: 1>\u001b[0;34m()\u001b[0m\n\u001b[0;32m----> 1\u001b[0m df \u001b[38;5;241m=\u001b[39m \u001b[43mpd\u001b[49m\u001b[38;5;241;43m.\u001b[39;49m\u001b[43mread_csv\u001b[49m\u001b[43m(\u001b[49m\u001b[38;5;124;43m'\u001b[39;49m\u001b[38;5;124;43m/home/hrishikeshkanojiya/Desktop/outputs.csv\u001b[39;49m\u001b[38;5;124;43m'\u001b[39;49m\u001b[43m)\u001b[49m\n\u001b[1;32m      2\u001b[0m df\u001b[38;5;241m.\u001b[39mhead()\n",
      "File \u001b[0;32m~/.local/lib/python3.8/site-packages/pandas/util/_decorators.py:311\u001b[0m, in \u001b[0;36mdeprecate_nonkeyword_arguments.<locals>.decorate.<locals>.wrapper\u001b[0;34m(*args, **kwargs)\u001b[0m\n\u001b[1;32m    305\u001b[0m \u001b[38;5;28;01mif\u001b[39;00m \u001b[38;5;28mlen\u001b[39m(args) \u001b[38;5;241m>\u001b[39m num_allow_args:\n\u001b[1;32m    306\u001b[0m     warnings\u001b[38;5;241m.\u001b[39mwarn(\n\u001b[1;32m    307\u001b[0m         msg\u001b[38;5;241m.\u001b[39mformat(arguments\u001b[38;5;241m=\u001b[39marguments),\n\u001b[1;32m    308\u001b[0m         \u001b[38;5;167;01mFutureWarning\u001b[39;00m,\n\u001b[1;32m    309\u001b[0m         stacklevel\u001b[38;5;241m=\u001b[39mstacklevel,\n\u001b[1;32m    310\u001b[0m     )\n\u001b[0;32m--> 311\u001b[0m \u001b[38;5;28;01mreturn\u001b[39;00m \u001b[43mfunc\u001b[49m\u001b[43m(\u001b[49m\u001b[38;5;241;43m*\u001b[39;49m\u001b[43margs\u001b[49m\u001b[43m,\u001b[49m\u001b[43m \u001b[49m\u001b[38;5;241;43m*\u001b[39;49m\u001b[38;5;241;43m*\u001b[39;49m\u001b[43mkwargs\u001b[49m\u001b[43m)\u001b[49m\n",
      "File \u001b[0;32m~/.local/lib/python3.8/site-packages/pandas/io/parsers/readers.py:680\u001b[0m, in \u001b[0;36mread_csv\u001b[0;34m(filepath_or_buffer, sep, delimiter, header, names, index_col, usecols, squeeze, prefix, mangle_dupe_cols, dtype, engine, converters, true_values, false_values, skipinitialspace, skiprows, skipfooter, nrows, na_values, keep_default_na, na_filter, verbose, skip_blank_lines, parse_dates, infer_datetime_format, keep_date_col, date_parser, dayfirst, cache_dates, iterator, chunksize, compression, thousands, decimal, lineterminator, quotechar, quoting, doublequote, escapechar, comment, encoding, encoding_errors, dialect, error_bad_lines, warn_bad_lines, on_bad_lines, delim_whitespace, low_memory, memory_map, float_precision, storage_options)\u001b[0m\n\u001b[1;32m    665\u001b[0m kwds_defaults \u001b[38;5;241m=\u001b[39m _refine_defaults_read(\n\u001b[1;32m    666\u001b[0m     dialect,\n\u001b[1;32m    667\u001b[0m     delimiter,\n\u001b[0;32m   (...)\u001b[0m\n\u001b[1;32m    676\u001b[0m     defaults\u001b[38;5;241m=\u001b[39m{\u001b[38;5;124m\"\u001b[39m\u001b[38;5;124mdelimiter\u001b[39m\u001b[38;5;124m\"\u001b[39m: \u001b[38;5;124m\"\u001b[39m\u001b[38;5;124m,\u001b[39m\u001b[38;5;124m\"\u001b[39m},\n\u001b[1;32m    677\u001b[0m )\n\u001b[1;32m    678\u001b[0m kwds\u001b[38;5;241m.\u001b[39mupdate(kwds_defaults)\n\u001b[0;32m--> 680\u001b[0m \u001b[38;5;28;01mreturn\u001b[39;00m \u001b[43m_read\u001b[49m\u001b[43m(\u001b[49m\u001b[43mfilepath_or_buffer\u001b[49m\u001b[43m,\u001b[49m\u001b[43m \u001b[49m\u001b[43mkwds\u001b[49m\u001b[43m)\u001b[49m\n",
      "File \u001b[0;32m~/.local/lib/python3.8/site-packages/pandas/io/parsers/readers.py:575\u001b[0m, in \u001b[0;36m_read\u001b[0;34m(filepath_or_buffer, kwds)\u001b[0m\n\u001b[1;32m    572\u001b[0m _validate_names(kwds\u001b[38;5;241m.\u001b[39mget(\u001b[38;5;124m\"\u001b[39m\u001b[38;5;124mnames\u001b[39m\u001b[38;5;124m\"\u001b[39m, \u001b[38;5;28;01mNone\u001b[39;00m))\n\u001b[1;32m    574\u001b[0m \u001b[38;5;66;03m# Create the parser.\u001b[39;00m\n\u001b[0;32m--> 575\u001b[0m parser \u001b[38;5;241m=\u001b[39m \u001b[43mTextFileReader\u001b[49m\u001b[43m(\u001b[49m\u001b[43mfilepath_or_buffer\u001b[49m\u001b[43m,\u001b[49m\u001b[43m \u001b[49m\u001b[38;5;241;43m*\u001b[39;49m\u001b[38;5;241;43m*\u001b[39;49m\u001b[43mkwds\u001b[49m\u001b[43m)\u001b[49m\n\u001b[1;32m    577\u001b[0m \u001b[38;5;28;01mif\u001b[39;00m chunksize \u001b[38;5;129;01mor\u001b[39;00m iterator:\n\u001b[1;32m    578\u001b[0m     \u001b[38;5;28;01mreturn\u001b[39;00m parser\n",
      "File \u001b[0;32m~/.local/lib/python3.8/site-packages/pandas/io/parsers/readers.py:933\u001b[0m, in \u001b[0;36mTextFileReader.__init__\u001b[0;34m(self, f, engine, **kwds)\u001b[0m\n\u001b[1;32m    930\u001b[0m     \u001b[38;5;28mself\u001b[39m\u001b[38;5;241m.\u001b[39moptions[\u001b[38;5;124m\"\u001b[39m\u001b[38;5;124mhas_index_names\u001b[39m\u001b[38;5;124m\"\u001b[39m] \u001b[38;5;241m=\u001b[39m kwds[\u001b[38;5;124m\"\u001b[39m\u001b[38;5;124mhas_index_names\u001b[39m\u001b[38;5;124m\"\u001b[39m]\n\u001b[1;32m    932\u001b[0m \u001b[38;5;28mself\u001b[39m\u001b[38;5;241m.\u001b[39mhandles: IOHandles \u001b[38;5;241m|\u001b[39m \u001b[38;5;28;01mNone\u001b[39;00m \u001b[38;5;241m=\u001b[39m \u001b[38;5;28;01mNone\u001b[39;00m\n\u001b[0;32m--> 933\u001b[0m \u001b[38;5;28mself\u001b[39m\u001b[38;5;241m.\u001b[39m_engine \u001b[38;5;241m=\u001b[39m \u001b[38;5;28;43mself\u001b[39;49m\u001b[38;5;241;43m.\u001b[39;49m\u001b[43m_make_engine\u001b[49m\u001b[43m(\u001b[49m\u001b[43mf\u001b[49m\u001b[43m,\u001b[49m\u001b[43m \u001b[49m\u001b[38;5;28;43mself\u001b[39;49m\u001b[38;5;241;43m.\u001b[39;49m\u001b[43mengine\u001b[49m\u001b[43m)\u001b[49m\n",
      "File \u001b[0;32m~/.local/lib/python3.8/site-packages/pandas/io/parsers/readers.py:1217\u001b[0m, in \u001b[0;36mTextFileReader._make_engine\u001b[0;34m(self, f, engine)\u001b[0m\n\u001b[1;32m   1213\u001b[0m     mode \u001b[38;5;241m=\u001b[39m \u001b[38;5;124m\"\u001b[39m\u001b[38;5;124mrb\u001b[39m\u001b[38;5;124m\"\u001b[39m\n\u001b[1;32m   1214\u001b[0m \u001b[38;5;66;03m# error: No overload variant of \"get_handle\" matches argument types\u001b[39;00m\n\u001b[1;32m   1215\u001b[0m \u001b[38;5;66;03m# \"Union[str, PathLike[str], ReadCsvBuffer[bytes], ReadCsvBuffer[str]]\"\u001b[39;00m\n\u001b[1;32m   1216\u001b[0m \u001b[38;5;66;03m# , \"str\", \"bool\", \"Any\", \"Any\", \"Any\", \"Any\", \"Any\"\u001b[39;00m\n\u001b[0;32m-> 1217\u001b[0m \u001b[38;5;28mself\u001b[39m\u001b[38;5;241m.\u001b[39mhandles \u001b[38;5;241m=\u001b[39m \u001b[43mget_handle\u001b[49m\u001b[43m(\u001b[49m\u001b[43m  \u001b[49m\u001b[38;5;66;43;03m# type: ignore[call-overload]\u001b[39;49;00m\n\u001b[1;32m   1218\u001b[0m \u001b[43m    \u001b[49m\u001b[43mf\u001b[49m\u001b[43m,\u001b[49m\n\u001b[1;32m   1219\u001b[0m \u001b[43m    \u001b[49m\u001b[43mmode\u001b[49m\u001b[43m,\u001b[49m\n\u001b[1;32m   1220\u001b[0m \u001b[43m    \u001b[49m\u001b[43mencoding\u001b[49m\u001b[38;5;241;43m=\u001b[39;49m\u001b[38;5;28;43mself\u001b[39;49m\u001b[38;5;241;43m.\u001b[39;49m\u001b[43moptions\u001b[49m\u001b[38;5;241;43m.\u001b[39;49m\u001b[43mget\u001b[49m\u001b[43m(\u001b[49m\u001b[38;5;124;43m\"\u001b[39;49m\u001b[38;5;124;43mencoding\u001b[39;49m\u001b[38;5;124;43m\"\u001b[39;49m\u001b[43m,\u001b[49m\u001b[43m \u001b[49m\u001b[38;5;28;43;01mNone\u001b[39;49;00m\u001b[43m)\u001b[49m\u001b[43m,\u001b[49m\n\u001b[1;32m   1221\u001b[0m \u001b[43m    \u001b[49m\u001b[43mcompression\u001b[49m\u001b[38;5;241;43m=\u001b[39;49m\u001b[38;5;28;43mself\u001b[39;49m\u001b[38;5;241;43m.\u001b[39;49m\u001b[43moptions\u001b[49m\u001b[38;5;241;43m.\u001b[39;49m\u001b[43mget\u001b[49m\u001b[43m(\u001b[49m\u001b[38;5;124;43m\"\u001b[39;49m\u001b[38;5;124;43mcompression\u001b[39;49m\u001b[38;5;124;43m\"\u001b[39;49m\u001b[43m,\u001b[49m\u001b[43m \u001b[49m\u001b[38;5;28;43;01mNone\u001b[39;49;00m\u001b[43m)\u001b[49m\u001b[43m,\u001b[49m\n\u001b[1;32m   1222\u001b[0m \u001b[43m    \u001b[49m\u001b[43mmemory_map\u001b[49m\u001b[38;5;241;43m=\u001b[39;49m\u001b[38;5;28;43mself\u001b[39;49m\u001b[38;5;241;43m.\u001b[39;49m\u001b[43moptions\u001b[49m\u001b[38;5;241;43m.\u001b[39;49m\u001b[43mget\u001b[49m\u001b[43m(\u001b[49m\u001b[38;5;124;43m\"\u001b[39;49m\u001b[38;5;124;43mmemory_map\u001b[39;49m\u001b[38;5;124;43m\"\u001b[39;49m\u001b[43m,\u001b[49m\u001b[43m \u001b[49m\u001b[38;5;28;43;01mFalse\u001b[39;49;00m\u001b[43m)\u001b[49m\u001b[43m,\u001b[49m\n\u001b[1;32m   1223\u001b[0m \u001b[43m    \u001b[49m\u001b[43mis_text\u001b[49m\u001b[38;5;241;43m=\u001b[39;49m\u001b[43mis_text\u001b[49m\u001b[43m,\u001b[49m\n\u001b[1;32m   1224\u001b[0m \u001b[43m    \u001b[49m\u001b[43merrors\u001b[49m\u001b[38;5;241;43m=\u001b[39;49m\u001b[38;5;28;43mself\u001b[39;49m\u001b[38;5;241;43m.\u001b[39;49m\u001b[43moptions\u001b[49m\u001b[38;5;241;43m.\u001b[39;49m\u001b[43mget\u001b[49m\u001b[43m(\u001b[49m\u001b[38;5;124;43m\"\u001b[39;49m\u001b[38;5;124;43mencoding_errors\u001b[39;49m\u001b[38;5;124;43m\"\u001b[39;49m\u001b[43m,\u001b[49m\u001b[43m \u001b[49m\u001b[38;5;124;43m\"\u001b[39;49m\u001b[38;5;124;43mstrict\u001b[39;49m\u001b[38;5;124;43m\"\u001b[39;49m\u001b[43m)\u001b[49m\u001b[43m,\u001b[49m\n\u001b[1;32m   1225\u001b[0m \u001b[43m    \u001b[49m\u001b[43mstorage_options\u001b[49m\u001b[38;5;241;43m=\u001b[39;49m\u001b[38;5;28;43mself\u001b[39;49m\u001b[38;5;241;43m.\u001b[39;49m\u001b[43moptions\u001b[49m\u001b[38;5;241;43m.\u001b[39;49m\u001b[43mget\u001b[49m\u001b[43m(\u001b[49m\u001b[38;5;124;43m\"\u001b[39;49m\u001b[38;5;124;43mstorage_options\u001b[39;49m\u001b[38;5;124;43m\"\u001b[39;49m\u001b[43m,\u001b[49m\u001b[43m \u001b[49m\u001b[38;5;28;43;01mNone\u001b[39;49;00m\u001b[43m)\u001b[49m\u001b[43m,\u001b[49m\n\u001b[1;32m   1226\u001b[0m \u001b[43m\u001b[49m\u001b[43m)\u001b[49m\n\u001b[1;32m   1227\u001b[0m \u001b[38;5;28;01massert\u001b[39;00m \u001b[38;5;28mself\u001b[39m\u001b[38;5;241m.\u001b[39mhandles \u001b[38;5;129;01mis\u001b[39;00m \u001b[38;5;129;01mnot\u001b[39;00m \u001b[38;5;28;01mNone\u001b[39;00m\n\u001b[1;32m   1228\u001b[0m f \u001b[38;5;241m=\u001b[39m \u001b[38;5;28mself\u001b[39m\u001b[38;5;241m.\u001b[39mhandles\u001b[38;5;241m.\u001b[39mhandle\n",
      "File \u001b[0;32m~/.local/lib/python3.8/site-packages/pandas/io/common.py:789\u001b[0m, in \u001b[0;36mget_handle\u001b[0;34m(path_or_buf, mode, encoding, compression, memory_map, is_text, errors, storage_options)\u001b[0m\n\u001b[1;32m    784\u001b[0m \u001b[38;5;28;01melif\u001b[39;00m \u001b[38;5;28misinstance\u001b[39m(handle, \u001b[38;5;28mstr\u001b[39m):\n\u001b[1;32m    785\u001b[0m     \u001b[38;5;66;03m# Check whether the filename is to be opened in binary mode.\u001b[39;00m\n\u001b[1;32m    786\u001b[0m     \u001b[38;5;66;03m# Binary mode does not support 'encoding' and 'newline'.\u001b[39;00m\n\u001b[1;32m    787\u001b[0m     \u001b[38;5;28;01mif\u001b[39;00m ioargs\u001b[38;5;241m.\u001b[39mencoding \u001b[38;5;129;01mand\u001b[39;00m \u001b[38;5;124m\"\u001b[39m\u001b[38;5;124mb\u001b[39m\u001b[38;5;124m\"\u001b[39m \u001b[38;5;129;01mnot\u001b[39;00m \u001b[38;5;129;01min\u001b[39;00m ioargs\u001b[38;5;241m.\u001b[39mmode:\n\u001b[1;32m    788\u001b[0m         \u001b[38;5;66;03m# Encoding\u001b[39;00m\n\u001b[0;32m--> 789\u001b[0m         handle \u001b[38;5;241m=\u001b[39m \u001b[38;5;28;43mopen\u001b[39;49m\u001b[43m(\u001b[49m\n\u001b[1;32m    790\u001b[0m \u001b[43m            \u001b[49m\u001b[43mhandle\u001b[49m\u001b[43m,\u001b[49m\n\u001b[1;32m    791\u001b[0m \u001b[43m            \u001b[49m\u001b[43mioargs\u001b[49m\u001b[38;5;241;43m.\u001b[39;49m\u001b[43mmode\u001b[49m\u001b[43m,\u001b[49m\n\u001b[1;32m    792\u001b[0m \u001b[43m            \u001b[49m\u001b[43mencoding\u001b[49m\u001b[38;5;241;43m=\u001b[39;49m\u001b[43mioargs\u001b[49m\u001b[38;5;241;43m.\u001b[39;49m\u001b[43mencoding\u001b[49m\u001b[43m,\u001b[49m\n\u001b[1;32m    793\u001b[0m \u001b[43m            \u001b[49m\u001b[43merrors\u001b[49m\u001b[38;5;241;43m=\u001b[39;49m\u001b[43merrors\u001b[49m\u001b[43m,\u001b[49m\n\u001b[1;32m    794\u001b[0m \u001b[43m            \u001b[49m\u001b[43mnewline\u001b[49m\u001b[38;5;241;43m=\u001b[39;49m\u001b[38;5;124;43m\"\u001b[39;49m\u001b[38;5;124;43m\"\u001b[39;49m\u001b[43m,\u001b[49m\n\u001b[1;32m    795\u001b[0m \u001b[43m        \u001b[49m\u001b[43m)\u001b[49m\n\u001b[1;32m    796\u001b[0m     \u001b[38;5;28;01melse\u001b[39;00m:\n\u001b[1;32m    797\u001b[0m         \u001b[38;5;66;03m# Binary mode\u001b[39;00m\n\u001b[1;32m    798\u001b[0m         handle \u001b[38;5;241m=\u001b[39m \u001b[38;5;28mopen\u001b[39m(handle, ioargs\u001b[38;5;241m.\u001b[39mmode)\n",
      "\u001b[0;31mFileNotFoundError\u001b[0m: [Errno 2] No such file or directory: '/home/hrishikeshkanojiya/Desktop/outputs.csv'"
     ]
    }
   ],
   "source": [
    "df = pd.read_csv('/home/hrishikeshkanojiya/Desktop/outputs.csv')\n",
    "df.head()"
   ]
  },
  {
   "cell_type": "code",
   "execution_count": 10,
   "id": "8b047c03",
   "metadata": {},
   "outputs": [
    {
     "data": {
      "text/plain": [
       "ham     4825\n",
       "spam     747\n",
       "Name: Category, dtype: int64"
      ]
     },
     "execution_count": 10,
     "metadata": {},
     "output_type": "execute_result"
    }
   ],
   "source": [
    "df['Category'].value_counts()"
   ]
  },
  {
   "cell_type": "code",
   "execution_count": 17,
   "id": "e6a8255f",
   "metadata": {},
   "outputs": [
    {
     "data": {
      "text/plain": [
       "(747, 2)"
      ]
     },
     "execution_count": 17,
     "metadata": {},
     "output_type": "execute_result"
    }
   ],
   "source": [
    "df_spam =df[df['Category']=='spam']\n",
    "df_spam.shape"
   ]
  },
  {
   "cell_type": "code",
   "execution_count": 18,
   "id": "9bccfda5",
   "metadata": {},
   "outputs": [
    {
     "data": {
      "text/plain": [
       "(4825, 2)"
      ]
     },
     "execution_count": 18,
     "metadata": {},
     "output_type": "execute_result"
    }
   ],
   "source": [
    "df_ham =df[df['Category']=='ham']\n",
    "df_ham.shape"
   ]
  },
  {
   "cell_type": "code",
   "execution_count": 22,
   "id": "e4ae1dcd",
   "metadata": {},
   "outputs": [],
   "source": [
    "df_ham_downsampled = df_ham.sample(df_spam.shape[0])"
   ]
  },
  {
   "cell_type": "code",
   "execution_count": 23,
   "id": "1aa58ebb",
   "metadata": {},
   "outputs": [
    {
     "data": {
      "text/plain": [
       "(747, 2)"
      ]
     },
     "execution_count": 23,
     "metadata": {},
     "output_type": "execute_result"
    }
   ],
   "source": [
    "df_ham_downsampled.shape"
   ]
  },
  {
   "cell_type": "code",
   "execution_count": 25,
   "id": "dc16b431",
   "metadata": {},
   "outputs": [
    {
     "data": {
      "text/plain": [
       "(1494, 2)"
      ]
     },
     "execution_count": 25,
     "metadata": {},
     "output_type": "execute_result"
    }
   ],
   "source": [
    "df_balanced = pd.concat([df_ham_downsampled,df_spam])\n",
    "df_balanced.shape"
   ]
  },
  {
   "cell_type": "code",
   "execution_count": 26,
   "id": "16ec3fb2",
   "metadata": {},
   "outputs": [
    {
     "data": {
      "text/plain": [
       "ham     747\n",
       "spam    747\n",
       "Name: Category, dtype: int64"
      ]
     },
     "execution_count": 26,
     "metadata": {},
     "output_type": "execute_result"
    }
   ],
   "source": [
    "df_balanced['Category'].value_counts()"
   ]
  },
  {
   "cell_type": "code",
   "execution_count": 29,
   "id": "1377e250",
   "metadata": {},
   "outputs": [
    {
     "data": {
      "text/html": [
       "<div>\n",
       "<style scoped>\n",
       "    .dataframe tbody tr th:only-of-type {\n",
       "        vertical-align: middle;\n",
       "    }\n",
       "\n",
       "    .dataframe tbody tr th {\n",
       "        vertical-align: top;\n",
       "    }\n",
       "\n",
       "    .dataframe thead th {\n",
       "        text-align: right;\n",
       "    }\n",
       "</style>\n",
       "<table border=\"1\" class=\"dataframe\">\n",
       "  <thead>\n",
       "    <tr style=\"text-align: right;\">\n",
       "      <th></th>\n",
       "      <th>Category</th>\n",
       "      <th>Message</th>\n",
       "      <th>spam</th>\n",
       "    </tr>\n",
       "  </thead>\n",
       "  <tbody>\n",
       "    <tr>\n",
       "      <th>3639</th>\n",
       "      <td>spam</td>\n",
       "      <td>Customer service announcement. We recently tri...</td>\n",
       "      <td>1</td>\n",
       "    </tr>\n",
       "    <tr>\n",
       "      <th>1119</th>\n",
       "      <td>ham</td>\n",
       "      <td>I'm going 4 lunch now wif my family then aft d...</td>\n",
       "      <td>0</td>\n",
       "    </tr>\n",
       "    <tr>\n",
       "      <th>2369</th>\n",
       "      <td>ham</td>\n",
       "      <td>If you r @ home then come down within 5 min</td>\n",
       "      <td>0</td>\n",
       "    </tr>\n",
       "    <tr>\n",
       "      <th>1817</th>\n",
       "      <td>ham</td>\n",
       "      <td>Are you going to write ccna exam this week??</td>\n",
       "      <td>0</td>\n",
       "    </tr>\n",
       "    <tr>\n",
       "      <th>5015</th>\n",
       "      <td>ham</td>\n",
       "      <td>Hello boytoy ! Geeee ... I'm missing you today...</td>\n",
       "      <td>0</td>\n",
       "    </tr>\n",
       "    <tr>\n",
       "      <th>559</th>\n",
       "      <td>ham</td>\n",
       "      <td>Hi Princess! Thank you for the pics. You are v...</td>\n",
       "      <td>0</td>\n",
       "    </tr>\n",
       "    <tr>\n",
       "      <th>3334</th>\n",
       "      <td>spam</td>\n",
       "      <td>You are being contacted by our dating service ...</td>\n",
       "      <td>1</td>\n",
       "    </tr>\n",
       "    <tr>\n",
       "      <th>3792</th>\n",
       "      <td>spam</td>\n",
       "      <td>Twinks, bears, scallies, skins and jocks are c...</td>\n",
       "      <td>1</td>\n",
       "    </tr>\n",
       "    <tr>\n",
       "      <th>4256</th>\n",
       "      <td>spam</td>\n",
       "      <td>Block Breaker now comes in deluxe format with ...</td>\n",
       "      <td>1</td>\n",
       "    </tr>\n",
       "    <tr>\n",
       "      <th>1282</th>\n",
       "      <td>ham</td>\n",
       "      <td>Am I the only one who doesn't stalk profiles?</td>\n",
       "      <td>0</td>\n",
       "    </tr>\n",
       "  </tbody>\n",
       "</table>\n",
       "</div>"
      ],
      "text/plain": [
       "     Category                                            Message  spam\n",
       "3639     spam  Customer service announcement. We recently tri...     1\n",
       "1119      ham  I'm going 4 lunch now wif my family then aft d...     0\n",
       "2369      ham        If you r @ home then come down within 5 min     0\n",
       "1817      ham       Are you going to write ccna exam this week??     0\n",
       "5015      ham  Hello boytoy ! Geeee ... I'm missing you today...     0\n",
       "559       ham  Hi Princess! Thank you for the pics. You are v...     0\n",
       "3334     spam  You are being contacted by our dating service ...     1\n",
       "3792     spam  Twinks, bears, scallies, skins and jocks are c...     1\n",
       "4256     spam  Block Breaker now comes in deluxe format with ...     1\n",
       "1282      ham      Am I the only one who doesn't stalk profiles?     0"
      ]
     },
     "execution_count": 29,
     "metadata": {},
     "output_type": "execute_result"
    }
   ],
   "source": [
    "df_balanced['spam']= df_balanced['Category'].apply(lambda x:1 if x=='spam' else 0)\n",
    "df_balanced.sample(10)"
   ]
  },
  {
   "cell_type": "code",
   "execution_count": 33,
   "id": "98f1c245",
   "metadata": {},
   "outputs": [],
   "source": [
    "from sklearn.model_selection import train_test_split\n",
    "X_train,X_test,y_train,y_test= train_test_split(df_balanced['Message'],df_balanced['spam'],\n",
    "                                               stratify=df_balanced['spam'])"
   ]
  },
  {
   "cell_type": "code",
   "execution_count": 34,
   "id": "64030ace",
   "metadata": {},
   "outputs": [
    {
     "data": {
      "text/plain": [
       "1765    Hi 07734396839 IBH Customer Loyalty Offer: The...\n",
       "3009    Loan for any purpose £500 - £75,000. Homeowner...\n",
       "1544    Hello from Orange. For 1 month's free access t...\n",
       "5437                         Am slow in using biola's fne\n",
       "4206    IMPORTANT INFORMATION 4 ORANGE USER 0796XXXXXX...\n",
       "Name: Message, dtype: object"
      ]
     },
     "execution_count": 34,
     "metadata": {},
     "output_type": "execute_result"
    }
   ],
   "source": [
    "X_train.head(5)"
   ]
  },
  {
   "cell_type": "code",
   "execution_count": 35,
   "id": "487eb882",
   "metadata": {},
   "outputs": [
    {
     "name": "stderr",
     "output_type": "stream",
     "text": [
      "2022-03-22 16:09:59.309129: W tensorflow/stream_executor/platform/default/dso_loader.cc:64] Could not load dynamic library 'libcuda.so.1'; dlerror: libcuda.so.1: cannot open shared object file: No such file or directory\n",
      "2022-03-22 16:09:59.309155: W tensorflow/stream_executor/cuda/cuda_driver.cc:269] failed call to cuInit: UNKNOWN ERROR (303)\n",
      "2022-03-22 16:09:59.309173: I tensorflow/stream_executor/cuda/cuda_diagnostics.cc:156] kernel driver does not appear to be running on this host (si-Latitude-5520): /proc/driver/nvidia/version does not exist\n",
      "2022-03-22 16:09:59.309981: I tensorflow/core/platform/cpu_feature_guard.cc:151] This TensorFlow binary is optimized with oneAPI Deep Neural Network Library (oneDNN) to use the following CPU instructions in performance-critical operations:  AVX2 AVX512F FMA\n",
      "To enable them in other operations, rebuild TensorFlow with the appropriate compiler flags.\n",
      "2022-03-22 16:11:22.306175: W tensorflow/core/framework/cpu_allocator_impl.cc:82] Allocation of 93763584 exceeds 10% of free system memory.\n"
     ]
    }
   ],
   "source": [
    "bert_preprocess = hub.KerasLayer(\"https://tfhub.dev/tensorflow/bert_en_uncased_preprocess/3\")\n",
    "bert_encoder = hub.KerasLayer(\"https://tfhub.dev/tensorflow/bert_en_uncased_L-12_H-768_A-12/4\")"
   ]
  },
  {
   "cell_type": "code",
   "execution_count": 40,
   "id": "022833e0",
   "metadata": {},
   "outputs": [
    {
     "data": {
      "text/plain": [
       "<tf.Tensor: shape=(1, 768), dtype=float32, numpy=\n",
       "array([[-9.24413562e-01, -2.98449039e-01, -3.46621573e-01,\n",
       "         8.33482683e-01, -2.24566013e-02, -8.26424211e-02,\n",
       "         9.47942078e-01,  2.75199801e-01, -2.43003771e-01,\n",
       "        -9.99972820e-01, -3.43356818e-01,  7.70513654e-01,\n",
       "         9.88459170e-01,  1.06394127e-01,  9.67812836e-01,\n",
       "        -7.72169888e-01, -3.92241478e-01, -6.11103237e-01,\n",
       "         2.82318354e-01, -8.46158564e-01,  7.55791306e-01,\n",
       "         9.97633338e-01,  4.41478789e-01,  2.97094107e-01,\n",
       "         3.79107893e-01,  9.17428493e-01, -8.27228606e-01,\n",
       "         9.64416504e-01,  9.68408525e-01,  7.70421207e-01,\n",
       "        -8.09939384e-01,  7.35712945e-02, -9.90438998e-01,\n",
       "        -1.70764923e-01, -3.77794802e-01, -9.94006634e-01,\n",
       "         2.02536225e-01, -8.15082014e-01,  4.62330244e-02,\n",
       "         4.95841466e-02, -9.29463625e-01,  2.71056652e-01,\n",
       "         9.99819934e-01,  1.99688673e-01,  1.19910009e-01,\n",
       "        -2.77724057e-01, -9.99999642e-01,  2.37128630e-01,\n",
       "        -9.21111822e-01,  5.10242999e-01,  4.13456351e-01,\n",
       "         1.63348362e-01,  1.06537692e-01,  3.85841221e-01,\n",
       "         3.39895427e-01,  2.59080261e-01, -1.63666591e-01,\n",
       "         3.55350263e-02, -1.63865015e-01, -5.54323077e-01,\n",
       "        -5.57212889e-01,  3.74826521e-01, -5.92481017e-01,\n",
       "        -9.15787756e-01,  5.17709017e-01,  1.14325479e-01,\n",
       "        -9.39577967e-02, -1.89842895e-01, -4.61058803e-02,\n",
       "        -1.10086337e-01,  9.44481969e-01,  2.62988746e-01,\n",
       "         4.17448521e-01, -8.85329604e-01, -6.86411932e-02,\n",
       "         2.78394371e-01, -6.68802798e-01,  1.00000000e+00,\n",
       "        -7.09034920e-01, -9.84517813e-01,  2.99575716e-01,\n",
       "         1.79828271e-01,  5.74165940e-01,  2.66875684e-01,\n",
       "        -2.19930425e-01, -1.00000000e+00,  4.59740281e-01,\n",
       "        -2.65109930e-02, -9.92680848e-01,  1.05937757e-01,\n",
       "         4.73980814e-01, -1.72123030e-01, -4.26588804e-01,\n",
       "         5.55153549e-01, -4.77059871e-01, -3.60490888e-01,\n",
       "        -2.34781936e-01, -3.62585753e-01, -1.60711169e-01,\n",
       "        -1.77447811e-01, -6.88502714e-02, -1.05693094e-01,\n",
       "        -3.15467507e-01, -3.57608616e-01,  1.76641509e-01,\n",
       "        -4.04431403e-01, -6.70876682e-01,  1.16302803e-01,\n",
       "        -2.34434932e-01,  6.64664090e-01,  3.82925838e-01,\n",
       "        -2.58946836e-01,  4.84140366e-01, -9.80797887e-01,\n",
       "         6.59430981e-01, -2.05862761e-01, -9.90026772e-01,\n",
       "        -5.78937709e-01, -9.91646230e-01,  6.70794308e-01,\n",
       "        -2.06143737e-01, -1.26493379e-01,  9.79054213e-01,\n",
       "         4.07410771e-01,  4.66788411e-01,  2.17424240e-03,\n",
       "        -3.42681020e-01, -1.00000000e+00, -6.69466019e-01,\n",
       "        -4.51359957e-01,  4.52599376e-02, -1.65016472e-01,\n",
       "        -9.85239089e-01, -9.62941945e-01,  6.13962650e-01,\n",
       "         9.61045086e-01,  1.54158458e-01,  9.99570668e-01,\n",
       "        -2.67353803e-01,  9.57463086e-01,  5.53471595e-02,\n",
       "        -4.76854563e-01,  1.85904607e-01, -4.55935657e-01,\n",
       "         5.93125939e-01,  6.66917324e-01, -7.30579019e-01,\n",
       "         1.29480615e-01, -1.21998504e-01,  2.62746245e-01,\n",
       "        -5.64674020e-01, -1.99701756e-01, -6.27211779e-02,\n",
       "        -9.64504123e-01, -4.07250404e-01,  9.64039624e-01,\n",
       "        -9.82799158e-02, -4.63862509e-01,  5.44333041e-01,\n",
       "        -2.73473769e-01, -5.06196976e-01,  8.85276854e-01,\n",
       "         5.92084467e-01,  3.90053600e-01, -2.94664174e-01,\n",
       "         3.11311126e-01, -7.99233913e-02,  6.55311823e-01,\n",
       "        -9.04661238e-01,  3.33001837e-02,  4.56538290e-01,\n",
       "        -2.77005851e-01, -2.37256929e-01, -9.79692638e-01,\n",
       "        -3.18984568e-01,  5.59669077e-01,  9.93109107e-01,\n",
       "         8.19110751e-01,  2.02910066e-01,  3.79214197e-01,\n",
       "        -1.51436180e-01,  7.01906025e-01, -9.69281793e-01,\n",
       "         9.84874249e-01, -1.69905528e-01,  2.53019184e-01,\n",
       "         5.71754277e-01, -1.71926931e-01, -9.29699659e-01,\n",
       "        -2.25073144e-01,  9.08928216e-01, -4.17298168e-01,\n",
       "        -8.86225283e-01, -6.45792261e-02, -4.72787291e-01,\n",
       "        -3.81056726e-01, -3.29606116e-01,  6.46935225e-01,\n",
       "        -2.59418219e-01, -3.53318781e-01, -5.36628440e-02,\n",
       "         9.29376125e-01,  9.91170287e-01,  8.69928300e-01,\n",
       "        -3.55758309e-01,  7.46442199e-01, -9.46911931e-01,\n",
       "        -5.73701024e-01, -1.69907995e-02,  3.19602370e-01,\n",
       "         1.11466937e-01,  9.95812416e-01, -4.15020317e-01,\n",
       "        -1.21542506e-01, -9.37708318e-01, -9.88653898e-01,\n",
       "        -3.97366807e-02, -9.48380589e-01,  7.29782432e-02,\n",
       "        -6.46618366e-01,  5.29046059e-01,  6.29333556e-01,\n",
       "         1.38603792e-01,  4.51356709e-01, -9.95709956e-01,\n",
       "        -8.16312850e-01,  3.08861077e-01, -4.02631700e-01,\n",
       "         3.29551816e-01, -1.94867387e-01,  6.20063767e-02,\n",
       "         5.45047939e-01, -5.97686529e-01,  8.99319232e-01,\n",
       "         9.09803331e-01, -1.26113608e-01, -7.50304043e-01,\n",
       "         9.06402826e-01, -2.52161235e-01,  9.02784884e-01,\n",
       "        -6.75116599e-01,  9.86950457e-01,  7.09811151e-01,\n",
       "         8.60700488e-01, -9.53122795e-01, -9.47625935e-02,\n",
       "        -9.37079370e-01, -4.01675314e-01,  3.57938446e-02,\n",
       "        -4.24925864e-01,  4.12989974e-01,  5.43213606e-01,\n",
       "         3.29551548e-01,  7.08231449e-01, -7.09754765e-01,\n",
       "         9.99143004e-01, -1.04834169e-01, -9.68924344e-01,\n",
       "         3.27719063e-01, -7.90926889e-02, -9.90633368e-01,\n",
       "         4.68909115e-01,  3.26926321e-01, -1.99185371e-01,\n",
       "        -3.20504308e-01, -7.17976570e-01, -9.69683349e-01,\n",
       "         9.22859609e-01,  1.60420060e-01,  9.93612826e-01,\n",
       "         1.13939151e-01, -9.60286558e-01, -4.22188163e-01,\n",
       "        -9.50618625e-01, -2.34134167e-01, -1.10925026e-01,\n",
       "         3.01274210e-01, -2.38158867e-01, -9.71260488e-01,\n",
       "         4.80630368e-01,  6.06535017e-01,  5.31036198e-01,\n",
       "        -7.33901411e-02,  9.99269187e-01,  9.99993086e-01,\n",
       "         9.82383847e-01,  9.41545844e-01,  9.54491496e-01,\n",
       "        -9.95291173e-01,  3.81406397e-02,  9.99988139e-01,\n",
       "        -9.19196486e-01, -1.00000000e+00, -9.42397177e-01,\n",
       "        -6.12049818e-01,  4.80790943e-01, -1.00000000e+00,\n",
       "        -4.51672636e-02, -1.38813276e-02, -9.36307609e-01,\n",
       "         2.36177132e-01,  9.83615756e-01,  9.97125447e-01,\n",
       "        -1.00000000e+00,  8.07191968e-01,  9.59938109e-01,\n",
       "        -6.97139263e-01,  8.70792687e-01, -2.47444049e-01,\n",
       "         9.78186786e-01,  4.47843909e-01,  2.35188857e-01,\n",
       "        -2.79893041e-01,  3.82591724e-01, -6.03476286e-01,\n",
       "        -8.91727388e-01,  1.57605857e-04,  1.47106545e-02,\n",
       "         9.36264455e-01,  1.29492611e-01, -7.75246739e-01,\n",
       "        -9.42267418e-01, -1.31188007e-02, -1.48037389e-01,\n",
       "        -4.19239521e-01, -9.72754478e-01, -1.24240972e-01,\n",
       "         3.33370239e-01,  7.96884477e-01, -3.09934039e-02,\n",
       "         1.83410257e-01, -7.81854153e-01,  2.71627009e-01,\n",
       "        -5.13495803e-01,  4.38005269e-01,  6.74340367e-01,\n",
       "        -9.53499615e-01, -6.97561920e-01, -3.87955010e-01,\n",
       "        -3.73388529e-01, -2.44088665e-01, -9.61967051e-01,\n",
       "         9.75991011e-01, -4.33216810e-01,  5.28039634e-01,\n",
       "         1.00000000e+00, -2.37179488e-01, -9.26800132e-01,\n",
       "         5.47632098e-01,  1.00416899e-01, -5.37998043e-02,\n",
       "         1.00000000e+00,  6.52037084e-01, -9.83541012e-01,\n",
       "        -5.73649824e-01,  2.71664828e-01, -4.68704671e-01,\n",
       "        -4.52250987e-01,  9.99194741e-01, -9.71441194e-02,\n",
       "         5.01205921e-02, -5.01591675e-02,  9.83599186e-01,\n",
       "        -9.92551863e-01,  8.36194038e-01, -9.60570991e-01,\n",
       "        -9.77760017e-01,  9.72021103e-01,  9.50429201e-01,\n",
       "        -5.48082292e-01, -6.69557333e-01,  4.70442213e-02,\n",
       "        -2.42857069e-01,  1.43514454e-01, -9.77775574e-01,\n",
       "         7.13059425e-01,  6.24920428e-01, -2.15580180e-01,\n",
       "         9.31290269e-01, -9.34111536e-01, -5.49932122e-01,\n",
       "         3.05806220e-01, -2.09914804e-01,  1.83639392e-01,\n",
       "         5.53783953e-01,  4.28550601e-01, -2.77731121e-01,\n",
       "        -1.15322039e-01, -2.49826014e-01,  1.68882787e-01,\n",
       "        -9.82430816e-01,  1.52953893e-01,  1.00000000e+00,\n",
       "         3.94419162e-03,  4.29337006e-03, -2.29520470e-01,\n",
       "         9.22808722e-02, -3.12125862e-01,  3.11311424e-01,\n",
       "         5.23617983e-01, -2.66339868e-01, -8.65310371e-01,\n",
       "         3.31452489e-01, -9.81756389e-01, -9.87941086e-01,\n",
       "         8.95907283e-01,  1.70968503e-01, -2.41239518e-01,\n",
       "         9.99979436e-01,  4.93887603e-01,  3.66487056e-02,\n",
       "         5.96432341e-03,  8.81891012e-01, -2.63855346e-02,\n",
       "         6.93789661e-01,  2.97483563e-01,  9.85077858e-01,\n",
       "        -2.95352280e-01,  5.25865793e-01,  9.05006588e-01,\n",
       "        -3.39749306e-01, -4.40882832e-01, -6.34674788e-01,\n",
       "        -4.39195223e-02, -9.16880250e-01,  3.53961661e-02,\n",
       "        -9.64112222e-01,  9.73799348e-01,  5.49597859e-01,\n",
       "         3.15294087e-01,  1.97125554e-01,  5.97632527e-02,\n",
       "         1.00000000e+00,  3.28787714e-02,  6.51191533e-01,\n",
       "        -7.75809228e-01,  9.42490458e-01, -9.79883075e-01,\n",
       "        -8.90168309e-01, -3.63566488e-01,  3.60840261e-02,\n",
       "        -1.32321358e-01, -2.00225368e-01,  3.51341844e-01,\n",
       "        -9.79446948e-01,  2.87198633e-01,  3.08953047e-01,\n",
       "        -9.94985759e-01, -9.95378733e-01,  2.60404468e-01,\n",
       "         9.42107022e-01,  2.48427726e-02, -8.66173446e-01,\n",
       "        -7.79721439e-01, -6.79838419e-01,  4.33844566e-01,\n",
       "        -2.21392572e-01, -9.52328205e-01,  4.04510647e-01,\n",
       "        -2.25668430e-01,  5.01095116e-01, -1.93793997e-01,\n",
       "         5.51253259e-01,  1.69813767e-01,  7.56718278e-01,\n",
       "         3.62314522e-01, -9.24153179e-02, -2.48461626e-02,\n",
       "        -8.80198598e-01,  9.06488121e-01, -9.11605060e-01,\n",
       "        -5.84320068e-01, -1.55061468e-01,  1.00000000e+00,\n",
       "        -4.39957291e-01,  5.93687356e-01,  7.49959946e-01,\n",
       "         8.49714398e-01, -1.00696936e-01,  2.15728924e-01,\n",
       "         5.42874575e-01,  2.13760778e-01, -1.15510873e-01,\n",
       "        -2.81039029e-01, -9.12190199e-01, -3.17289293e-01,\n",
       "         6.92381620e-01, -3.16571176e-01, -2.67753191e-02,\n",
       "         8.28184068e-01,  3.33871573e-01,  1.14539139e-01,\n",
       "         1.13015890e-01, -1.95201933e-01,  9.99830782e-01,\n",
       "        -2.35889152e-01, -1.82529911e-02, -5.28495133e-01,\n",
       "         4.64254506e-02, -3.32660586e-01, -7.28613853e-01,\n",
       "         1.00000000e+00,  2.79694647e-01,  2.59667397e-01,\n",
       "        -9.94406581e-01, -4.30000901e-01, -9.39456582e-01,\n",
       "         9.99949932e-01,  8.32843781e-01, -8.64539206e-01,\n",
       "         6.36379719e-01,  5.62028587e-01,  3.72596607e-02,\n",
       "         8.85421276e-01, -2.14950249e-01, -2.30511338e-01,\n",
       "         1.28653571e-01,  1.48091957e-01,  9.73749638e-01,\n",
       "        -4.23646212e-01, -9.74934518e-01, -6.72289193e-01,\n",
       "         3.35816860e-01, -9.75736976e-01,  9.95601952e-01,\n",
       "        -4.80250269e-01, -2.03503489e-01, -3.81914228e-01,\n",
       "         2.76853621e-01,  8.59745085e-01, -1.43626511e-01,\n",
       "        -9.87928510e-01, -1.13564089e-01,  9.56285968e-02,\n",
       "         9.74801242e-01,  2.48605475e-01, -6.44214153e-01,\n",
       "        -9.50364649e-01,  1.00109413e-01,  5.05789280e-01,\n",
       "        -5.03576219e-01, -9.61005807e-01,  9.79922354e-01,\n",
       "        -9.90435898e-01,  5.58038414e-01,  1.00000000e+00,\n",
       "         2.35363334e-01, -3.97513390e-01,  1.87769145e-01,\n",
       "        -4.71697271e-01,  1.15771659e-01,  3.89832407e-02,\n",
       "         7.60724306e-01, -9.70531762e-01, -2.66409427e-01,\n",
       "        -4.45749350e-02,  3.24681669e-01, -1.25789270e-01,\n",
       "         3.94291967e-01,  7.98047304e-01,  2.23058537e-01,\n",
       "        -5.95306993e-01, -6.34759426e-01,  3.13013978e-02,\n",
       "         3.56753945e-01,  9.16333258e-01, -1.82531387e-01,\n",
       "        -1.55580804e-01,  6.50371611e-02, -6.03248179e-02,\n",
       "        -9.51393604e-01, -1.65091217e-01, -3.08009863e-01,\n",
       "        -9.99401689e-01,  7.56648839e-01, -1.00000000e+00,\n",
       "        -1.75201651e-02, -4.00991172e-01, -3.08995068e-01,\n",
       "         8.81184578e-01, -1.34683222e-01,  1.34284407e-01,\n",
       "        -8.36275339e-01, -2.76598901e-01,  8.01869154e-01,\n",
       "         8.06411862e-01, -1.92426383e-01, -3.39363217e-01,\n",
       "        -8.23444188e-01,  2.15925217e-01,  8.07626639e-03,\n",
       "         1.63717747e-01,  3.87553237e-02,  7.27709293e-01,\n",
       "        -1.23375714e-01,  1.00000000e+00,  6.39513880e-02,\n",
       "        -7.64648795e-01, -9.90496039e-01,  1.31550089e-01,\n",
       "        -1.02548644e-01,  9.99998689e-01, -9.51735854e-01,\n",
       "        -9.59372401e-01,  3.36492419e-01, -6.30389571e-01,\n",
       "        -9.02748823e-01,  2.77830839e-01, -5.17443158e-02,\n",
       "        -7.30184913e-01, -7.18680620e-01,  9.80360329e-01,\n",
       "         9.39390421e-01, -5.93929172e-01,  4.02401388e-01,\n",
       "        -3.78773421e-01, -5.13084888e-01, -3.82861234e-02,\n",
       "         2.32368514e-01,  9.91085887e-01,  3.85766000e-01,\n",
       "         9.32879388e-01,  8.14503610e-01, -6.40001986e-03,\n",
       "         9.73910749e-01,  9.30861384e-02,  7.31147707e-01,\n",
       "         1.63203925e-02,  1.00000000e+00,  2.93283820e-01,\n",
       "        -9.32765961e-01,  1.78652436e-01, -9.87586141e-01,\n",
       "        -2.02318221e-01, -9.65659320e-01,  2.64498949e-01,\n",
       "         8.70615244e-02,  8.91585708e-01, -1.52477801e-01,\n",
       "         9.83927190e-01, -2.58060634e-01, -2.87633277e-02,\n",
       "        -4.38887894e-01,  4.25509423e-01,  3.59081328e-01,\n",
       "        -9.35597479e-01, -9.87558544e-01, -9.90136385e-01,\n",
       "         3.85902435e-01, -4.30611670e-01,  5.90044707e-02,\n",
       "         6.96967542e-02,  1.69965416e-01,  3.37154120e-01,\n",
       "         4.05411869e-01, -1.00000000e+00,  9.55089390e-01,\n",
       "         4.62041110e-01,  5.71785033e-01,  9.74297702e-01,\n",
       "         4.91305441e-01,  2.78312951e-01,  1.46157429e-01,\n",
       "        -9.91302967e-01, -9.89728451e-01, -3.47479492e-01,\n",
       "        -1.86296612e-01,  8.18748951e-01,  5.95475435e-01,\n",
       "         9.36913967e-01,  4.23738658e-01, -4.97049004e-01,\n",
       "         8.49680156e-02,  7.95152783e-02,  1.53520316e-01,\n",
       "        -9.95588601e-01,  4.62659001e-01,  4.23971824e-02,\n",
       "        -9.84723091e-01,  9.64129388e-01, -6.15345120e-01,\n",
       "        -1.07242018e-01,  5.44823766e-01, -2.57875830e-01,\n",
       "         9.80261862e-01,  8.10599029e-01,  4.50207859e-01,\n",
       "        -5.29905073e-02,  4.40957278e-01,  9.27527726e-01,\n",
       "         9.70231533e-01,  9.90609169e-01, -3.18926096e-01,\n",
       "         8.93279612e-01, -1.96976468e-01,  4.68435347e-01,\n",
       "         6.44919515e-01, -9.54924583e-01,  1.01540647e-02,\n",
       "         2.91077405e-01, -3.47114682e-01,  2.61336476e-01,\n",
       "        -1.37634113e-01, -9.86598074e-01,  5.52026391e-01,\n",
       "        -2.31469169e-01,  5.85885167e-01, -4.47728306e-01,\n",
       "         1.68634847e-01, -3.63230437e-01, -5.61872795e-02,\n",
       "        -7.12404847e-01, -7.07641542e-01,  6.36918783e-01,\n",
       "         5.85937083e-01,  9.39293921e-01,  3.94081682e-01,\n",
       "         7.11564794e-02, -7.64788985e-01, -1.77148521e-01,\n",
       "        -1.24067843e-01, -9.35359299e-01,  9.64272976e-01,\n",
       "        -4.54510078e-02,  1.68759510e-01,  5.03575839e-02,\n",
       "        -4.97729667e-02,  6.58937573e-01, -1.01591289e-01,\n",
       "        -3.76887351e-01, -2.16914922e-01, -7.44918883e-01,\n",
       "         8.72490942e-01, -1.59437761e-01, -5.08841693e-01,\n",
       "        -6.12446189e-01,  6.73947275e-01,  3.03236604e-01,\n",
       "         9.98241603e-01, -2.80915558e-01, -5.22932649e-01,\n",
       "        -2.29193747e-01, -3.38205189e-01,  3.35508972e-01,\n",
       "        -4.44792330e-01, -1.00000000e+00,  3.60597610e-01,\n",
       "         1.59049392e-01,  4.41699535e-01, -4.54004169e-01,\n",
       "         3.98247361e-01, -4.48257208e-01, -9.90615070e-01,\n",
       "        -1.79105788e-01, -1.69319659e-02,  1.82430580e-01,\n",
       "        -4.37486738e-01, -6.93079293e-01,  6.55810356e-01,\n",
       "         1.79922923e-01,  8.15265596e-01,  9.27985072e-01,\n",
       "        -4.22527760e-01,  5.39421558e-01,  6.49116039e-01,\n",
       "        -3.48931029e-02, -6.90945446e-01,  9.38267231e-01]], dtype=float32)>"
      ]
     },
     "execution_count": 40,
     "metadata": {},
     "output_type": "execute_result"
    }
   ],
   "source": [
    "def get_sentence_embeding(sentence):\n",
    "    preprocess_text= bert_preprocess(sentence)\n",
    "    return bert_encoder(preprocess_text)['pooled_output']\n",
    "\n",
    "get_sentence_embeding(['how are doing'])"
   ]
  },
  {
   "cell_type": "code",
   "execution_count": 41,
   "id": "c10629c7",
   "metadata": {},
   "outputs": [],
   "source": [
    "e = get_sentence_embeding([\n",
    "    \"banana\", \n",
    "    \"grapes\",\n",
    "    \"mango\",\n",
    "    \"jeff bezos\",\n",
    "    \"elon musk\",\n",
    "    \"bill gates\"\n",
    "]\n",
    ")"
   ]
  },
  {
   "cell_type": "code",
   "execution_count": 46,
   "id": "7b451a5a",
   "metadata": {},
   "outputs": [
    {
     "data": {
      "text/plain": [
       "array([[0.99110866]], dtype=float32)"
      ]
     },
     "execution_count": 46,
     "metadata": {},
     "output_type": "execute_result"
    }
   ],
   "source": [
    "from sklearn.metrics.pairwise import cosine_similarity\n",
    "cosine_similarity([e[0]],[e[1]])"
   ]
  },
  {
   "cell_type": "code",
   "execution_count": 50,
   "id": "f6888f95",
   "metadata": {},
   "outputs": [],
   "source": [
    "text_input = tf.keras.Input(shape=(),dtype=tf.string,name='text')\n",
    "preprocessed_text= bert_preprocess(text_input)\n",
    "outputs = bert_encoder(preprocessed_text)\n",
    "\n",
    "#nlp layer\n",
    "l = tf.keras.layers.Dropout(0.1,name=\"dropout\")(outputs['pooled_output'])\n",
    "l = tf.keras.layers.Dense(1,activation='sigmoid',name='output')(l)\n",
    "\n",
    "#final model\n",
    "model = tf.keras.Model(inputs=[text_input],outputs=[l])"
   ]
  },
  {
   "cell_type": "code",
   "execution_count": 51,
   "id": "17a97c15",
   "metadata": {},
   "outputs": [
    {
     "name": "stdout",
     "output_type": "stream",
     "text": [
      "Model: \"model\"\n",
      "__________________________________________________________________________________________________\n",
      " Layer (type)                   Output Shape         Param #     Connected to                     \n",
      "==================================================================================================\n",
      " text (InputLayer)              [(None,)]            0           []                               \n",
      "                                                                                                  \n",
      " keras_layer (KerasLayer)       {'input_mask': (Non  0           ['text[0][0]']                   \n",
      "                                e, 128),                                                          \n",
      "                                 'input_type_ids':                                                \n",
      "                                (None, 128),                                                      \n",
      "                                 'input_word_ids':                                                \n",
      "                                (None, 128)}                                                      \n",
      "                                                                                                  \n",
      " keras_layer_1 (KerasLayer)     {'pooled_output': (  109482241   ['keras_layer[3][0]',            \n",
      "                                None, 768),                       'keras_layer[3][1]',            \n",
      "                                 'encoder_outputs':               'keras_layer[3][2]']            \n",
      "                                 [(None, 128, 768),                                               \n",
      "                                 (None, 128, 768),                                                \n",
      "                                 (None, 128, 768),                                                \n",
      "                                 (None, 128, 768),                                                \n",
      "                                 (None, 128, 768),                                                \n",
      "                                 (None, 128, 768),                                                \n",
      "                                 (None, 128, 768),                                                \n",
      "                                 (None, 128, 768),                                                \n",
      "                                 (None, 128, 768),                                                \n",
      "                                 (None, 128, 768),                                                \n",
      "                                 (None, 128, 768),                                                \n",
      "                                 (None, 128, 768)],                                               \n",
      "                                 'default': (None,                                                \n",
      "                                768),                                                             \n",
      "                                 'sequence_output':                                               \n",
      "                                 (None, 128, 768)}                                                \n",
      "                                                                                                  \n",
      " dropout (Dropout)              (None, 768)          0           ['keras_layer_1[3][13]']         \n",
      "                                                                                                  \n",
      " output (Dense)                 (None, 1)            769         ['dropout[0][0]']                \n",
      "                                                                                                  \n",
      "==================================================================================================\n",
      "Total params: 109,483,010\n",
      "Trainable params: 769\n",
      "Non-trainable params: 109,482,241\n",
      "__________________________________________________________________________________________________\n"
     ]
    }
   ],
   "source": [
    "model.summary()"
   ]
  },
  {
   "cell_type": "code",
   "execution_count": 52,
   "id": "f16dea42",
   "metadata": {},
   "outputs": [
    {
     "data": {
      "text/plain": [
       "1120"
      ]
     },
     "execution_count": 52,
     "metadata": {},
     "output_type": "execute_result"
    }
   ],
   "source": [
    "len(X_train)"
   ]
  },
  {
   "cell_type": "code",
   "execution_count": 55,
   "id": "1bf3f5c6",
   "metadata": {},
   "outputs": [],
   "source": [
    "MATRICS = [\n",
    "    tf.keras.metrics.BinaryAccuracy(name='Accuracy'),\n",
    "    tf.keras.metrics.Precision(name='Precision'),\n",
    "    tf.keras.metrics.Recall(name='recall')\n",
    "]\n",
    "\n",
    "model.compile(optimizer='adam',\n",
    "             loss='binary_crossentropy',\n",
    "             metrics=MATRICS)"
   ]
  },
  {
   "cell_type": "code",
   "execution_count": 56,
   "id": "cb7f0b7c",
   "metadata": {},
   "outputs": [
    {
     "name": "stdout",
     "output_type": "stream",
     "text": [
      "Epoch 1/10\n"
     ]
    },
    {
     "name": "stderr",
     "output_type": "stream",
     "text": [
      "2022-03-22 16:54:09.735010: W tensorflow/core/framework/cpu_allocator_impl.cc:82] Allocation of 50331648 exceeds 10% of free system memory.\n",
      "2022-03-22 16:54:09.801418: W tensorflow/core/framework/cpu_allocator_impl.cc:82] Allocation of 50331648 exceeds 10% of free system memory.\n",
      "2022-03-22 16:54:10.116920: W tensorflow/core/framework/cpu_allocator_impl.cc:82] Allocation of 50331648 exceeds 10% of free system memory.\n",
      "2022-03-22 16:54:10.184661: W tensorflow/core/framework/cpu_allocator_impl.cc:82] Allocation of 50331648 exceeds 10% of free system memory.\n"
     ]
    },
    {
     "name": "stdout",
     "output_type": "stream",
     "text": [
      "35/35 [==============================] - 159s 4s/step - loss: 0.6255 - Accuracy: 0.6652 - Precision: 0.6742 - recall: 0.6393\n",
      "Epoch 2/10\n",
      "35/35 [==============================] - 153s 4s/step - loss: 0.5039 - Accuracy: 0.8089 - Precision: 0.7903 - recall: 0.8411\n",
      "Epoch 3/10\n",
      "35/35 [==============================] - 152s 4s/step - loss: 0.4412 - Accuracy: 0.8464 - Precision: 0.8440 - recall: 0.8500\n",
      "Epoch 4/10\n",
      "35/35 [==============================] - 152s 4s/step - loss: 0.3943 - Accuracy: 0.8634 - Precision: 0.8397 - recall: 0.8982\n",
      "Epoch 5/10\n",
      "35/35 [==============================] - 150s 4s/step - loss: 0.3593 - Accuracy: 0.8804 - Precision: 0.8647 - recall: 0.9018\n",
      "Epoch 6/10\n",
      "35/35 [==============================] - 150s 4s/step - loss: 0.3319 - Accuracy: 0.8848 - Precision: 0.8722 - recall: 0.9018\n",
      "Epoch 7/10\n",
      "35/35 [==============================] - 150s 4s/step - loss: 0.3234 - Accuracy: 0.8839 - Precision: 0.8707 - recall: 0.9018\n",
      "Epoch 8/10\n",
      "35/35 [==============================] - 151s 4s/step - loss: 0.3003 - Accuracy: 0.9071 - Precision: 0.8864 - recall: 0.9339\n",
      "Epoch 9/10\n",
      "35/35 [==============================] - 151s 4s/step - loss: 0.2931 - Accuracy: 0.9045 - Precision: 0.9037 - recall: 0.9054\n",
      "Epoch 10/10\n",
      "35/35 [==============================] - 234s 7s/step - loss: 0.2820 - Accuracy: 0.9018 - Precision: 0.8934 - recall: 0.9125\n"
     ]
    },
    {
     "data": {
      "text/plain": [
       "<keras.callbacks.History at 0x7f15e7695640>"
      ]
     },
     "execution_count": 56,
     "metadata": {},
     "output_type": "execute_result"
    }
   ],
   "source": [
    "model.fit(X_train, y_train, epochs=10)"
   ]
  },
  {
   "cell_type": "code",
   "execution_count": 57,
   "id": "45c4b9f9",
   "metadata": {},
   "outputs": [
    {
     "name": "stdout",
     "output_type": "stream",
     "text": [
      "12/12 [==============================] - 51s 4s/step - loss: 0.2760 - Accuracy: 0.9144 - Precision: 0.9058 - recall: 0.9251\n"
     ]
    },
    {
     "data": {
      "text/plain": [
       "[0.27600669860839844,\n",
       " 0.9144384860992432,\n",
       " 0.9057591557502747,\n",
       " 0.9251337051391602]"
      ]
     },
     "execution_count": 57,
     "metadata": {},
     "output_type": "execute_result"
    }
   ],
   "source": [
    "model.evaluate(X_test, y_test)"
   ]
  },
  {
   "cell_type": "code",
   "execution_count": 63,
   "id": "5bd3fee8",
   "metadata": {},
   "outputs": [
    {
     "data": {
      "text/plain": [
       "array([0, 0, 1, 0, 1, 1, 0, 0, 1, 0, 0, 0, 0, 0, 0, 1, 1, 0, 1, 1, 1, 0,\n",
       "       0, 0, 1, 0, 0, 1, 1, 0, 0, 1, 0, 0, 1, 1, 1, 1, 0, 0, 0, 0, 0, 1,\n",
       "       1, 0, 0, 0, 0, 0, 1, 0, 1, 0, 1, 1, 1, 0, 1, 0, 0, 0, 1, 0, 1, 1,\n",
       "       1, 0, 0, 0, 1, 0, 1, 0, 1, 1, 1, 0, 0, 1, 1, 1, 1, 0, 0, 1, 1, 0,\n",
       "       0, 0, 0, 0, 1, 1, 1, 1, 1, 1, 0, 1, 0, 1, 1, 1, 0, 1, 1, 0, 1, 0,\n",
       "       0, 0, 0, 1, 1, 0, 1, 0, 0, 0, 0, 1, 1, 1, 0, 0, 1, 0, 0, 1, 1, 1,\n",
       "       1, 0, 0, 1, 0, 0, 1, 1, 0, 1, 1, 1, 0, 0, 1, 0, 0, 1, 0, 1, 1, 1,\n",
       "       0, 0, 0, 0, 1, 1, 1, 1, 1, 0, 1, 1, 0, 1, 0, 0, 1, 1, 1, 0, 1, 0,\n",
       "       1, 0, 0, 1, 0, 1, 1, 0, 0, 1, 0, 1, 1, 1, 1, 1, 0, 0, 0, 1, 1, 0,\n",
       "       1, 0, 1, 0, 1, 1, 1, 0, 1, 0, 0, 1, 1, 0, 1, 0, 1, 1, 1, 0, 0, 0,\n",
       "       0, 1, 1, 1, 1, 0, 0, 0, 0, 0, 1, 1, 0, 1, 1, 0, 1, 1, 0, 1, 1, 1,\n",
       "       1, 1, 0, 0, 1, 0, 1, 0, 1, 1, 1, 0, 0, 1, 0, 1, 1, 1, 1, 1, 1, 1,\n",
       "       0, 0, 0, 1, 0, 1, 1, 0, 0, 0, 0, 0, 0, 1, 1, 0, 1, 1, 1, 0, 0, 0,\n",
       "       1, 0, 1, 0, 1, 1, 0, 0, 0, 1, 1, 1, 0, 0, 1, 1, 1, 1, 1, 0, 0, 0,\n",
       "       0, 0, 0, 0, 1, 0, 1, 0, 1, 0, 0, 1, 0, 0, 1, 0, 0, 1, 0, 1, 0, 0,\n",
       "       0, 0, 1, 1, 1, 1, 0, 0, 0, 0, 1, 1, 0, 1, 1, 1, 1, 1, 1, 1, 1, 0,\n",
       "       0, 0, 0, 0, 1, 1, 0, 1, 0, 1, 0, 1, 0, 1, 1, 1, 1, 1, 0, 0, 1, 0])"
      ]
     },
     "execution_count": 63,
     "metadata": {},
     "output_type": "execute_result"
    }
   ],
   "source": [
    "y_predicted = model.predict(X_test)\n",
    "y_predicted = y_predicted.flatten()\n",
    "\n",
    "import numpy as np\n",
    "\n",
    "y_predicted = np.where(y_predicted > 0.5, 1, 0)\n",
    "y_predicted"
   ]
  },
  {
   "cell_type": "code",
   "execution_count": 65,
   "id": "cd12bf0c",
   "metadata": {},
   "outputs": [
    {
     "data": {
      "text/plain": [
       "array([[169,  18],\n",
       "       [ 14, 173]])"
      ]
     },
     "execution_count": 65,
     "metadata": {},
     "output_type": "execute_result"
    }
   ],
   "source": [
    "from sklearn.metrics import confusion_matrix, classification_report\n",
    "\n",
    "cm = confusion_matrix(y_test,y_predicted)\n",
    "cm"
   ]
  },
  {
   "cell_type": "code",
   "execution_count": 66,
   "id": "1c446184",
   "metadata": {},
   "outputs": [
    {
     "data": {
      "text/plain": [
       "Text(33.0, 0.5, 'Truth')"
      ]
     },
     "execution_count": 66,
     "metadata": {},
     "output_type": "execute_result"
    },
    {
     "data": {
      "image/png": "[encoded data removed]",
      "text/plain": [
       "<Figure size 432x288 with 2 Axes>"
      ]
     },
     "metadata": {
      "needs_background": "light"
     },
     "output_type": "display_data"
    }
   ],
   "source": [
    "from matplotlib import pyplot as plt\n",
    "import seaborn as sn\n",
    "sn.heatmap(cm, annot=True, fmt='d')\n",
    "plt.xlabel('Predicted')\n",
    "plt.ylabel('Truth')"
   ]
  },
  {
   "cell_type": "code",
   "execution_count": 67,
   "id": "3e4e5521",
   "metadata": {},
   "outputs": [
    {
     "name": "stdout",
     "output_type": "stream",
     "text": [
      "              precision    recall  f1-score   support\n",
      "\n",
      "           0       0.92      0.90      0.91       187\n",
      "           1       0.91      0.93      0.92       187\n",
      "\n",
      "    accuracy                           0.91       374\n",
      "   macro avg       0.91      0.91      0.91       374\n",
      "weighted avg       0.91      0.91      0.91       374\n",
      "\n"
     ]
    }
   ],
   "source": [
    "print(classification_report(y_test, y_predicted))"
   ]
  },
  {
   "cell_type": "code",
   "execution_count": 68,
   "id": "d4d8dd9b",
   "metadata": {},
   "outputs": [
    {
     "data": {
      "text/plain": [
       "array([[0.76356196],\n",
       "       [0.8344021 ],\n",
       "       [0.78699446],\n",
       "       [0.19545141],\n",
       "       [0.09324747]], dtype=float32)"
      ]
     },
     "execution_count": 68,
     "metadata": {},
     "output_type": "execute_result"
    }
   ],
   "source": [
    "reviews = [\n",
    "    'Enter a chance to win $5000, hurry up, offer valid until march 31, 2021',\n",
    "    'You are awarded a SiPix Digital Camera! call 09061221061 from landline. Delivery within 28days. T Cs Box177. M221BP. 2yr warranty. 150ppm. 16 . p pÂ£3.99',\n",
    "    'it to 80488. Your 500 free text messages are valid until 31 December 2005.',\n",
    "    'Hey Sam, Are you coming for a cricket game tomorrow',\n",
    "    \"Why don't you wait 'til at least wednesday to see if you get your .\"\n",
    "]\n",
    "model.predict(reviews)"
   ]
  },
  {
   "cell_type": "code",
   "execution_count": null,
   "id": "065cdeeb",
   "metadata": {},
   "outputs": [],
   "source": []
  }
 ],
 "metadata": {
  "kernelspec": {
   "display_name": "Python 3 (ipykernel)",
   "language": "python",
   "name": "python3"
  },
  "language_info": {
   "codemirror_mode": {
    "name": "ipython",
    "version": 3
   },
   "file_extension": ".py",
   "mimetype": "text/x-python",
   "name": "python",
   "nbconvert_exporter": "python",
   "pygments_lexer": "ipython3",
   "version": "3.8.10"
  }
 },
 "nbformat": 4,
 "nbformat_minor": 5
}
